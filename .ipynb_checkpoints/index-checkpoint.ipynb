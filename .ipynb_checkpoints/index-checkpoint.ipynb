{
 "cells": [
  {
   "cell_type": "markdown",
   "id": "8a0e78b9-7828-4bc1-a926-fb7201ad63f1",
   "metadata": {},
   "source": [
    "## CEMA Africa Computer Science Internship\n",
    "### Name : Sharon Atieno\n",
    "### Task : Classify whether a blood smear is uninfected or parasitized using Tensorflow\n",
    "### Deadline : 15th/May/2024, Wednesday"
   ]
  },
  {
   "cell_type": "code",
   "execution_count": null,
   "id": "af6e0529-e139-4dc6-96ea-e6384b10b659",
   "metadata": {},
   "outputs": [],
   "source": [
    "import keras\n",
    "from keras.models import Sequential\n",
    "from keras.layers import Dense, Dropout, Activation\n",
    "from keras.callbacks import EarlyStopping, ModelCheckpoint\n",
    "from keras import regularizers\n",
    "\n",
    "import pandas as pd\n",
    "import numpy as np\n",
    "from sk"
   ]
  }
 ],
 "metadata": {
  "kernelspec": {
   "display_name": "Python 3 (ipykernel)",
   "language": "python",
   "name": "python3"
  },
  "language_info": {
   "codemirror_mode": {
    "name": "ipython",
    "version": 3
   },
   "file_extension": ".py",
   "mimetype": "text/x-python",
   "name": "python",
   "nbconvert_exporter": "python",
   "pygments_lexer": "ipython3",
   "version": "3.11.7"
  }
 },
 "nbformat": 4,
 "nbformat_minor": 5
}
